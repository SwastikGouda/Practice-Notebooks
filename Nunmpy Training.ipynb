{
 "cells": [
  {
   "cell_type": "code",
   "execution_count": 4,
   "id": "cd2b929b",
   "metadata": {},
   "outputs": [],
   "source": [
    "import numpy as np"
   ]
  },
  {
   "cell_type": "markdown",
   "id": "b5018a46",
   "metadata": {},
   "source": [
    "## Basic numpy 1-D/2-D Array"
   ]
  },
  {
   "cell_type": "code",
   "execution_count": 8,
   "id": "62c1813f",
   "metadata": {},
   "outputs": [
    {
     "data": {
      "text/plain": [
       "(8,)"
      ]
     },
     "execution_count": 8,
     "metadata": {},
     "output_type": "execute_result"
    }
   ],
   "source": [
    "np.array([1,2,3,4,5,6,7,8]).shape"
   ]
  },
  {
   "cell_type": "code",
   "execution_count": 44,
   "id": "26a6fd39",
   "metadata": {},
   "outputs": [
    {
     "data": {
      "text/plain": [
       "array([10, 13, 16, 19, 22, 25, 28])"
      ]
     },
     "execution_count": 44,
     "metadata": {},
     "output_type": "execute_result"
    }
   ],
   "source": [
    "np.arange(10,30,3)"
   ]
  },
  {
   "cell_type": "code",
   "execution_count": 47,
   "id": "abd03d02",
   "metadata": {},
   "outputs": [
    {
     "data": {
      "text/plain": [
       "array([2, 2, 2, 2, 2, 2, 2, 2, 2, 2])"
      ]
     },
     "execution_count": 47,
     "metadata": {},
     "output_type": "execute_result"
    }
   ],
   "source": [
    "np.full((10),2)"
   ]
  },
  {
   "cell_type": "code",
   "execution_count": 51,
   "id": "f55da506",
   "metadata": {},
   "outputs": [
    {
     "data": {
      "text/plain": [
       "array([2, 5])"
      ]
     },
     "execution_count": 51,
     "metadata": {},
     "output_type": "execute_result"
    }
   ],
   "source": [
    "np.arange(2,7)[::3]"
   ]
  },
  {
   "cell_type": "code",
   "execution_count": 52,
   "id": "e35f9d94",
   "metadata": {},
   "outputs": [
    {
     "data": {
      "text/plain": [
       "array([3, 3, 3, 3, 3, 3, 3, 3, 3, 3])"
      ]
     },
     "execution_count": 52,
     "metadata": {},
     "output_type": "execute_result"
    }
   ],
   "source": [
    "np.full((10),3)"
   ]
  },
  {
   "cell_type": "code",
   "execution_count": 53,
   "id": "d0f29b0c",
   "metadata": {},
   "outputs": [
    {
     "data": {
      "text/plain": [
       "array([[1, 3, 4, 5],\n",
       "       [5, 6, 7, 8]])"
      ]
     },
     "execution_count": 53,
     "metadata": {},
     "output_type": "execute_result"
    }
   ],
   "source": [
    "np.array([[1,3,4,5,6],[5,6,7,8,1]])[0:2,0:4]"
   ]
  },
  {
   "cell_type": "markdown",
   "id": "947f756c",
   "metadata": {},
   "source": [
    "## Universal Functions in Nunmpy"
   ]
  },
  {
   "cell_type": "code",
   "execution_count": 27,
   "id": "13780bf8",
   "metadata": {},
   "outputs": [],
   "source": [
    "#SQRT\n",
    "np1=np.array([1,2,3,4,5,6,7,8,9])"
   ]
  },
  {
   "cell_type": "code",
   "execution_count": 26,
   "id": "8ad2320b",
   "metadata": {},
   "outputs": [
    {
     "data": {
      "text/plain": [
       "array([1.        , 1.41421356, 1.73205081, 2.        , 2.23606798,\n",
       "       2.44948974, 2.64575131, 2.82842712, 3.        ])"
      ]
     },
     "execution_count": 26,
     "metadata": {},
     "output_type": "execute_result"
    }
   ],
   "source": [
    "np.sqrt(np1)"
   ]
  },
  {
   "cell_type": "code",
   "execution_count": 37,
   "id": "dae9c661",
   "metadata": {},
   "outputs": [
    {
     "data": {
      "text/plain": [
       "array([1. , 2. , 3. , 4. , 5.4, 6. , 7. ])"
      ]
     },
     "execution_count": 37,
     "metadata": {},
     "output_type": "execute_result"
    }
   ],
   "source": [
    "#Absolute Function\n",
    "np2=np.array([1,2,-3,4,5.4,6,-7])\n",
    "np.absolute(np2)"
   ]
  },
  {
   "cell_type": "code",
   "execution_count": 38,
   "id": "4db1c1da",
   "metadata": {},
   "outputs": [
    {
     "data": {
      "text/plain": [
       "array([2.71828183e+00, 7.38905610e+00, 4.97870684e-02, 5.45981500e+01,\n",
       "       2.21406416e+02, 4.03428793e+02, 9.11881966e-04])"
      ]
     },
     "execution_count": 38,
     "metadata": {},
     "output_type": "execute_result"
    }
   ],
   "source": [
    "#Exponents\n",
    "np.exp(np2)"
   ]
  },
  {
   "cell_type": "code",
   "execution_count": 39,
   "id": "be6d09f2",
   "metadata": {},
   "outputs": [
    {
     "data": {
      "text/plain": [
       "6.0"
      ]
     },
     "execution_count": 39,
     "metadata": {},
     "output_type": "execute_result"
    }
   ],
   "source": [
    "# Min/Max\n",
    "np.max(np2)"
   ]
  },
  {
   "cell_type": "code",
   "execution_count": 40,
   "id": "a3bfabf2",
   "metadata": {},
   "outputs": [
    {
     "data": {
      "text/plain": [
       "-7.0"
      ]
     },
     "execution_count": 40,
     "metadata": {},
     "output_type": "execute_result"
    }
   ],
   "source": [
    "np.min(np2)"
   ]
  },
  {
   "cell_type": "code",
   "execution_count": 44,
   "id": "d6b816f2",
   "metadata": {},
   "outputs": [
    {
     "data": {
      "text/plain": [
       "array([ 1.,  1., -1.,  1.,  1.,  1., -1.])"
      ]
     },
     "execution_count": 44,
     "metadata": {},
     "output_type": "execute_result"
    }
   ],
   "source": [
    "#Sign in numpy (-1 for -ive and +1 for +ive)\n",
    "np.sign(np2)"
   ]
  },
  {
   "cell_type": "markdown",
   "id": "97c57b89",
   "metadata": {},
   "source": [
    "## Copy vs View"
   ]
  },
  {
   "cell_type": "code",
   "execution_count": 63,
   "id": "800c85f5",
   "metadata": {},
   "outputs": [],
   "source": [
    "#View - Whatever you change in og gets reflected in the copy and viceversa\n",
    "np3=np.array([1,2,3,4,5,6,7,8,9,1])"
   ]
  },
  {
   "cell_type": "code",
   "execution_count": 46,
   "id": "b523aee2",
   "metadata": {},
   "outputs": [],
   "source": [
    "np4=np3.view()"
   ]
  },
  {
   "cell_type": "code",
   "execution_count": 51,
   "id": "3f83c715",
   "metadata": {},
   "outputs": [],
   "source": [
    "np3[0]=21"
   ]
  },
  {
   "cell_type": "code",
   "execution_count": 52,
   "id": "770d5c19",
   "metadata": {},
   "outputs": [
    {
     "data": {
      "text/plain": [
       "array([ True,  True,  True,  True,  True,  True,  True,  True,  True,\n",
       "        True])"
      ]
     },
     "execution_count": 52,
     "metadata": {},
     "output_type": "execute_result"
    }
   ],
   "source": [
    "np3==np4"
   ]
  },
  {
   "cell_type": "code",
   "execution_count": 54,
   "id": "5c640825",
   "metadata": {},
   "outputs": [],
   "source": [
    "#Copy - Chnges made to OG dosent affect the copy and vice versa\n",
    "np5=np.array([2,3,6,78,6])\n",
    "np6=np5.copy()"
   ]
  },
  {
   "cell_type": "code",
   "execution_count": 55,
   "id": "e850b6df",
   "metadata": {},
   "outputs": [],
   "source": [
    "np5[0]=976"
   ]
  },
  {
   "cell_type": "code",
   "execution_count": 56,
   "id": "a8f0793f",
   "metadata": {},
   "outputs": [
    {
     "data": {
      "text/plain": [
       "array([False,  True,  True,  True,  True])"
      ]
     },
     "execution_count": 56,
     "metadata": {},
     "output_type": "execute_result"
    }
   ],
   "source": [
    "np6==np5"
   ]
  },
  {
   "cell_type": "code",
   "execution_count": 60,
   "id": "fb1cdbff",
   "metadata": {},
   "outputs": [],
   "source": [
    "np6[-1]=9"
   ]
  },
  {
   "cell_type": "code",
   "execution_count": 62,
   "id": "4fa75153",
   "metadata": {},
   "outputs": [
    {
     "data": {
      "text/plain": [
       "array([976,   3,   6,  78,   6])"
      ]
     },
     "execution_count": 62,
     "metadata": {},
     "output_type": "execute_result"
    }
   ],
   "source": [
    "np5"
   ]
  },
  {
   "cell_type": "code",
   "execution_count": 61,
   "id": "a5ad23f8",
   "metadata": {},
   "outputs": [
    {
     "data": {
      "text/plain": [
       "array([ 2,  3,  6, 78,  9])"
      ]
     },
     "execution_count": 61,
     "metadata": {},
     "output_type": "execute_result"
    }
   ],
   "source": [
    "np6"
   ]
  },
  {
   "cell_type": "markdown",
   "id": "5b792a3d",
   "metadata": {},
   "source": [
    "## Shape & Reshape "
   ]
  },
  {
   "cell_type": "code",
   "execution_count": 56,
   "id": "4fdbd86d",
   "metadata": {},
   "outputs": [],
   "source": [
    "#Products of reshape numbers shoulbe be equal to the len() of np array\n",
    "np7=np.array([1,2,3,4,5,6,7,8,9,10,4,5])"
   ]
  },
  {
   "cell_type": "code",
   "execution_count": 57,
   "id": "d7cd49ae",
   "metadata": {},
   "outputs": [
    {
     "data": {
      "text/plain": [
       "(12,)"
      ]
     },
     "execution_count": 57,
     "metadata": {},
     "output_type": "execute_result"
    }
   ],
   "source": [
    "np7.shape"
   ]
  },
  {
   "cell_type": "code",
   "execution_count": 58,
   "id": "9a32c5a1",
   "metadata": {},
   "outputs": [
    {
     "data": {
      "text/plain": [
       "array([[[ 1,  2],\n",
       "        [ 3,  4],\n",
       "        [ 5,  6]],\n",
       "\n",
       "       [[ 7,  8],\n",
       "        [ 9, 10],\n",
       "        [ 4,  5]]])"
      ]
     },
     "execution_count": 58,
     "metadata": {},
     "output_type": "execute_result"
    }
   ],
   "source": [
    "np7r=np7.reshape(2,3,2)\n",
    "np7r"
   ]
  },
  {
   "cell_type": "code",
   "execution_count": 93,
   "id": "f2f57690",
   "metadata": {},
   "outputs": [
    {
     "data": {
      "text/plain": [
       "array([ 1,  2,  3,  4,  5,  6,  7,  8,  9, 10,  4,  5])"
      ]
     },
     "execution_count": 93,
     "metadata": {},
     "output_type": "execute_result"
    }
   ],
   "source": [
    "np7r.reshape(-4)"
   ]
  },
  {
   "cell_type": "markdown",
   "id": "dffcd522",
   "metadata": {},
   "source": [
    "## Iterating through np arrays"
   ]
  },
  {
   "cell_type": "code",
   "execution_count": 107,
   "id": "d05809c2",
   "metadata": {},
   "outputs": [],
   "source": [
    "#1-D\n",
    "np8=np.array([1,2,3,4,5,6,7,8,9,10])"
   ]
  },
  {
   "cell_type": "code",
   "execution_count": 96,
   "id": "386cec13",
   "metadata": {},
   "outputs": [
    {
     "name": "stdout",
     "output_type": "stream",
     "text": [
      "1\n",
      "2\n",
      "3\n",
      "4\n",
      "5\n",
      "6\n",
      "7\n",
      "8\n",
      "9\n",
      "10\n"
     ]
    }
   ],
   "source": [
    "for i in np8:\n",
    "    print(i)"
   ]
  },
  {
   "cell_type": "code",
   "execution_count": 106,
   "id": "21c0a3f8",
   "metadata": {},
   "outputs": [],
   "source": [
    "#2-D\n",
    "np9 = np.array([[1,2,3,4,5],[6,7,8,9,10]])"
   ]
  },
  {
   "cell_type": "code",
   "execution_count": 100,
   "id": "4fc76fb4",
   "metadata": {},
   "outputs": [
    {
     "name": "stdout",
     "output_type": "stream",
     "text": [
      "1\n",
      "2\n",
      "3\n",
      "4\n",
      "5\n",
      "-------------------------\n",
      "6\n",
      "7\n",
      "8\n",
      "9\n",
      "10\n",
      "-------------------------\n"
     ]
    }
   ],
   "source": [
    "for i in np9:\n",
    "    for j in i:\n",
    "        print(j)\n",
    "    print('-------------------------')"
   ]
  },
  {
   "cell_type": "code",
   "execution_count": 104,
   "id": "3dd1e960",
   "metadata": {},
   "outputs": [
    {
     "data": {
      "text/plain": [
       "array([[[1, 2],\n",
       "        [3, 4]],\n",
       "\n",
       "       [[5, 6],\n",
       "        [7, 8]]])"
      ]
     },
     "execution_count": 104,
     "metadata": {},
     "output_type": "execute_result"
    }
   ],
   "source": [
    "#3-D\n",
    "np10=np.array([[[1,2],[3,4]],[[5,6],[7,8]]])\n",
    "np10"
   ]
  },
  {
   "cell_type": "code",
   "execution_count": 105,
   "id": "ff847ae2",
   "metadata": {},
   "outputs": [
    {
     "data": {
      "text/plain": [
       "(2, 2, 2)"
      ]
     },
     "execution_count": 105,
     "metadata": {},
     "output_type": "execute_result"
    }
   ],
   "source": [
    "np10.shape"
   ]
  },
  {
   "cell_type": "code",
   "execution_count": 109,
   "id": "e14a86a9",
   "metadata": {},
   "outputs": [
    {
     "name": "stdout",
     "output_type": "stream",
     "text": [
      "1\n",
      "2\n",
      "****\n",
      "3\n",
      "4\n",
      "****\n",
      "--------------\n",
      "5\n",
      "6\n",
      "****\n",
      "7\n",
      "8\n",
      "****\n",
      "--------------\n"
     ]
    }
   ],
   "source": [
    "for i in np10:\n",
    "    for j in i:\n",
    "        for k in j:\n",
    "            print(k)\n",
    "        print('****')\n",
    "    print('--------------')"
   ]
  },
  {
   "cell_type": "code",
   "execution_count": 111,
   "id": "24cca940",
   "metadata": {},
   "outputs": [
    {
     "name": "stdout",
     "output_type": "stream",
     "text": [
      "1\n",
      "2\n",
      "3\n",
      "4\n",
      "5\n",
      "6\n",
      "7\n",
      "8\n"
     ]
    }
   ],
   "source": [
    "#Easier way for loops np.nditer()\n",
    "\n",
    "for i in np.nditer(np10):\n",
    "    print(i)"
   ]
  },
  {
   "cell_type": "markdown",
   "id": "4f6ff0aa",
   "metadata": {},
   "source": [
    "## Sorting Numpy Arrays "
   ]
  },
  {
   "cell_type": "code",
   "execution_count": 120,
   "id": "22483386",
   "metadata": {},
   "outputs": [],
   "source": [
    "#Ascending\n",
    "np11=np.array([3,6,2,1,90,4,7,3,-1])"
   ]
  },
  {
   "cell_type": "code",
   "execution_count": 119,
   "id": "aba836d2",
   "metadata": {},
   "outputs": [
    {
     "data": {
      "text/plain": [
       "array([-1,  1,  2,  3,  3,  4,  6,  7, 90])"
      ]
     },
     "execution_count": 119,
     "metadata": {},
     "output_type": "execute_result"
    }
   ],
   "source": [
    "np.sort(np11)"
   ]
  },
  {
   "cell_type": "code",
   "execution_count": 5,
   "id": "231839e3",
   "metadata": {},
   "outputs": [],
   "source": [
    "np12=np.array(['swastik','aomika','swagat','subham', 'pattnaik','subham' ,'samal'])"
   ]
  },
  {
   "cell_type": "code",
   "execution_count": 6,
   "id": "280325e1",
   "metadata": {},
   "outputs": [
    {
     "name": "stdout",
     "output_type": "stream",
     "text": [
      "['swastik' 'aomika' 'swagat' 'subham' 'pattnaik' 'subham' 'samal']\n",
      "['aomika' 'pattnaik' 'samal' 'subham' 'subham' 'swagat' 'swastik']\n"
     ]
    }
   ],
   "source": [
    "print(np12)\n",
    "print(np.sort(np12))"
   ]
  },
  {
   "cell_type": "code",
   "execution_count": 62,
   "id": "9987a6c3",
   "metadata": {},
   "outputs": [
    {
     "data": {
      "text/plain": [
       "array(['swastik', 'swagat', 'subham', 'subham', 'samal', 'pattnaik',\n",
       "       'aomika'], dtype='<U8')"
      ]
     },
     "execution_count": 62,
     "metadata": {},
     "output_type": "execute_result"
    }
   ],
   "source": [
    "#Sort Desceding\n",
    "np.sort(np12)[::-1]"
   ]
  },
  {
   "cell_type": "code",
   "execution_count": 64,
   "id": "30cc8e08",
   "metadata": {},
   "outputs": [],
   "source": [
    "#IN 2D Array Sort will sort in each row\n",
    "np13=np.array([[3,1,2,-1],[0,9,1,7]])"
   ]
  },
  {
   "cell_type": "code",
   "execution_count": 65,
   "id": "4330a608",
   "metadata": {},
   "outputs": [
    {
     "data": {
      "text/plain": [
       "array([[ 3,  1,  2, -1],\n",
       "       [ 0,  9,  1,  7]])"
      ]
     },
     "execution_count": 65,
     "metadata": {},
     "output_type": "execute_result"
    }
   ],
   "source": [
    "np13"
   ]
  },
  {
   "cell_type": "code",
   "execution_count": 66,
   "id": "616e242e",
   "metadata": {},
   "outputs": [
    {
     "data": {
      "text/plain": [
       "array([[-1,  1,  2,  3],\n",
       "       [ 0,  1,  7,  9]])"
      ]
     },
     "execution_count": 66,
     "metadata": {},
     "output_type": "execute_result"
    }
   ],
   "source": [
    "np.sort(np13)"
   ]
  },
  {
   "cell_type": "markdown",
   "id": "2ef8ac9c",
   "metadata": {},
   "source": [
    "## Searching Numpy Arrays "
   ]
  },
  {
   "cell_type": "code",
   "execution_count": 24,
   "id": "a43430e4",
   "metadata": {},
   "outputs": [],
   "source": [
    "np14=np.array([1,2,3,3,3,3,4,5,6,7,6,7,7,7,8,9,0])"
   ]
  },
  {
   "cell_type": "code",
   "execution_count": 9,
   "id": "6fce9889",
   "metadata": {},
   "outputs": [],
   "source": [
    "s=np.where(np14==3)"
   ]
  },
  {
   "cell_type": "code",
   "execution_count": 16,
   "id": "9e9354ed",
   "metadata": {},
   "outputs": [
    {
     "data": {
      "text/plain": [
       "array([3, 3, 3, 3])"
      ]
     },
     "execution_count": 16,
     "metadata": {},
     "output_type": "execute_result"
    }
   ],
   "source": [
    "np14[s[0]]"
   ]
  },
  {
   "cell_type": "code",
   "execution_count": 25,
   "id": "128ac3ba",
   "metadata": {},
   "outputs": [
    {
     "data": {
      "text/plain": [
       "(array([ 1,  6,  8, 10, 14, 16], dtype=int64),)"
      ]
     },
     "execution_count": 25,
     "metadata": {},
     "output_type": "execute_result"
    }
   ],
   "source": [
    "#Printing Even numbers\n",
    "y=np.where(np14%2==0)\n",
    "y"
   ]
  },
  {
   "cell_type": "code",
   "execution_count": 26,
   "id": "e715bc92",
   "metadata": {},
   "outputs": [
    {
     "data": {
      "text/plain": [
       "array([2, 4, 6, 6, 8, 0])"
      ]
     },
     "execution_count": 26,
     "metadata": {},
     "output_type": "execute_result"
    }
   ],
   "source": [
    "np14[y[0]]"
   ]
  },
  {
   "cell_type": "code",
   "execution_count": 27,
   "id": "dc8fb775",
   "metadata": {},
   "outputs": [
    {
     "data": {
      "text/plain": [
       "(array([ 0,  2,  3,  4,  5,  7,  9, 11, 12, 13, 15], dtype=int64),)"
      ]
     },
     "execution_count": 27,
     "metadata": {},
     "output_type": "execute_result"
    }
   ],
   "source": [
    "#Printing Odd numbers\n",
    "y1=np.where(np14%2 != 0)\n",
    "y1"
   ]
  },
  {
   "cell_type": "code",
   "execution_count": 28,
   "id": "3c590a41",
   "metadata": {},
   "outputs": [
    {
     "data": {
      "text/plain": [
       "array([1, 3, 3, 3, 3, 5, 7, 7, 7, 7, 9])"
      ]
     },
     "execution_count": 28,
     "metadata": {},
     "output_type": "execute_result"
    }
   ],
   "source": [
    "np14[y1[0]]"
   ]
  },
  {
   "cell_type": "markdown",
   "id": "f76dadb6",
   "metadata": {},
   "source": [
    "## Filtering Numpy arrays"
   ]
  },
  {
   "cell_type": "code",
   "execution_count": 29,
   "id": "6e81009e",
   "metadata": {},
   "outputs": [],
   "source": [
    "np15=np.array([1,2,3,4,5])"
   ]
  },
  {
   "cell_type": "code",
   "execution_count": 30,
   "id": "10d2637c",
   "metadata": {},
   "outputs": [],
   "source": [
    "c=[True,True,False,False,False]"
   ]
  },
  {
   "cell_type": "code",
   "execution_count": 31,
   "id": "6150ed4b",
   "metadata": {},
   "outputs": [
    {
     "data": {
      "text/plain": [
       "array([1, 2])"
      ]
     },
     "execution_count": 31,
     "metadata": {},
     "output_type": "execute_result"
    }
   ],
   "source": [
    "np15[c]"
   ]
  },
  {
   "cell_type": "code",
   "execution_count": 35,
   "id": "386fafd4",
   "metadata": {},
   "outputs": [],
   "source": [
    "#Long Way Filtering\n",
    "m=[]\n",
    "for i in np15:\n",
    "    if i%2==0:\n",
    "        m.append(True)\n",
    "    else:\n",
    "        m.append(False)"
   ]
  },
  {
   "cell_type": "code",
   "execution_count": 36,
   "id": "d71ddd18",
   "metadata": {},
   "outputs": [
    {
     "data": {
      "text/plain": [
       "[False, True, False, True, False]"
      ]
     },
     "execution_count": 36,
     "metadata": {},
     "output_type": "execute_result"
    }
   ],
   "source": [
    "m"
   ]
  },
  {
   "cell_type": "code",
   "execution_count": 37,
   "id": "b68742fc",
   "metadata": {},
   "outputs": [
    {
     "data": {
      "text/plain": [
       "array([2, 4])"
      ]
     },
     "execution_count": 37,
     "metadata": {},
     "output_type": "execute_result"
    }
   ],
   "source": [
    "np15[m]"
   ]
  },
  {
   "cell_type": "code",
   "execution_count": 43,
   "id": "23410ac8",
   "metadata": {},
   "outputs": [
    {
     "data": {
      "text/plain": [
       "array([2, 4])"
      ]
     },
     "execution_count": 43,
     "metadata": {},
     "output_type": "execute_result"
    }
   ],
   "source": [
    "#Shortcut\n",
    "np15[np15%2==0]"
   ]
  }
 ],
 "metadata": {
  "kernelspec": {
   "display_name": "Python 3 (ipykernel)",
   "language": "python",
   "name": "python3"
  },
  "language_info": {
   "codemirror_mode": {
    "name": "ipython",
    "version": 3
   },
   "file_extension": ".py",
   "mimetype": "text/x-python",
   "name": "python",
   "nbconvert_exporter": "python",
   "pygments_lexer": "ipython3",
   "version": "3.11.5"
  }
 },
 "nbformat": 4,
 "nbformat_minor": 5
}
